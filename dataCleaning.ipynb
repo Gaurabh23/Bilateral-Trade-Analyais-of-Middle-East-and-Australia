{
 "cells": [
  {
   "cell_type": "code",
   "execution_count": 1,
   "id": "6a5a51c3-8fff-4e6c-b38a-b6adaa9fa3e2",
   "metadata": {},
   "outputs": [],
   "source": [
    "import os\n",
    "import pandas as pd\n",
    "import matplotlib.pyplot as plt"
   ]
  },
  {
   "cell_type": "code",
   "execution_count": 28,
   "id": "8508746f-a311-453e-8798-33e6d35ef9f9",
   "metadata": {},
   "outputs": [],
   "source": [
    "data_folder = './Data'"
   ]
  },
  {
   "cell_type": "code",
   "execution_count": 29,
   "id": "cbf07b28-ed2d-4f6b-a174-0181eec8a336",
   "metadata": {},
   "outputs": [],
   "source": [
    "#Defining our Cleaning function that can handle both 1--Column and 12-Column file"
   ]
  },
  {
   "cell_type": "code",
   "execution_count": 30,
   "id": "ddc80aff-66e3-4440-9a7a-a76ba0bf3336",
   "metadata": {},
   "outputs": [],
   "source": [
    "def clean_trade_file(file_path, country_code):\n",
    "    try:\n",
    "        df_raw = pd.read_excel(file_path, skiprows=7)\n",
    "        df_raw = df_raw[df_raw.iloc[:, 0].notna()]\n",
    "        df_raw = df_raw[~df_raw.iloc[:, 0].astype(str).str.contains(\"TOTAL\", na=False, case=False)]\n",
    "\n",
    "        num_cols = df_raw.shape[1]\n",
    "\n",
    "        if num_cols == 10:\n",
    "            df_raw.columns = [\n",
    "                \"Code\", \"Product\", \"Value_2023\", \"Trade_Balance_2023\",\n",
    "                \"Growth_2019_2023\", \"Growth_2022_2023\", \"World_Growth\",\n",
    "                \"World_Import_Rank\", \"Avg_Distance_km\", \"Concentration\"\n",
    "            ]\n",
    "            # Add missing columns as NaN\n",
    "            df_raw[\"World_Import_Share\"] = None\n",
    "            df_raw[\"Avg_Tariff\"] = None\n",
    "\n",
    "        elif num_cols == 12:\n",
    "            df_raw.columns = [\n",
    "                \"Code\", \"Product\", \"Value_2023\", \"Trade_Balance_2023\",\n",
    "                \"Growth_2019_2023\", \"Growth_2022_2023\", \"World_Growth\",\n",
    "                \"World_Import_Share\", \"World_Import_Rank\", \"Avg_Distance_km\",\n",
    "                \"Concentration\", \"Avg_Tariff\"\n",
    "            ]\n",
    "        else:\n",
    "            print(f\"Skipping {country_code}: unexpected number of columns\")\n",
    "            return None\n",
    "\n",
    "        df_raw[\"Code\"] = df_raw[\"Code\"].astype(str).str.replace(\"'\", \"\").str.strip()\n",
    "        df_raw[\"Country\"] = country_code\n",
    "        df_raw[\"Direction\"] = \"Import\"\n",
    "\n",
    "        return df_raw\n",
    "\n",
    "    except Exception as e:\n",
    "        print(f\"Failed to clean {country_code}: {e}\")\n",
    "        return None\n"
   ]
  },
  {
   "cell_type": "code",
   "execution_count": 31,
   "id": "42bff2ab-e66a-47bb-843a-46db223d074a",
   "metadata": {},
   "outputs": [],
   "source": [
    "#Loop through all the country folders and use the above cleaning function."
   ]
  },
  {
   "cell_type": "code",
   "execution_count": 32,
   "id": "e7845924-b5ac-4dc7-accb-2ced506df6bd",
   "metadata": {},
   "outputs": [],
   "source": [
    "master_data = []\n",
    "\n",
    "# Get all folders (country codes)\n",
    "country_folders = [f for f in os.listdir(data_folder) if os.path.isdir(os.path.join(data_folder, f))]\n",
    "\n",
    "for country_code in country_folders:\n",
    "    folder_path = os.path.join(data_folder, country_code)\n",
    "    files = [f for f in os.listdir(folder_path) if f.endswith(\"&AU IM.xlsx\")]\n",
    "    if not files:\n",
    "        continue\n",
    "\n",
    "    file_path = os.path.join(folder_path, files[0])\n",
    "    df = clean_trade_file(file_path, country_code)\n",
    "\n",
    "    if df is not None:\n",
    "        master_data.append(df)\n"
   ]
  },
  {
   "cell_type": "code",
   "execution_count": 33,
   "id": "514ff095-28d9-4278-8fa1-e5110a4cae16",
   "metadata": {},
   "outputs": [],
   "source": [
    "#Combining into a maste dataframe"
   ]
  },
  {
   "cell_type": "code",
   "execution_count": 34,
   "id": "9d1a26c2-cbea-415b-a4b2-1937c6367b55",
   "metadata": {},
   "outputs": [],
   "source": [
    "master_df = pd.concat(master_data, ignore_index=True)"
   ]
  },
  {
   "cell_type": "code",
   "execution_count": 35,
   "id": "17930f38-d24d-43d0-ada6-b9a0e68db46b",
   "metadata": {},
   "outputs": [],
   "source": [
    "#The below csv files is out master data file. However, ther are two coulms World_Import_Share and Avg_Tarrif which are empty for most \n",
    "#of the countries. This is beacus these columns were only present in the 12-column Excel files (e.g., from UAE, KSA, etc.). And the rest\n",
    "#are left as empty. \n",
    "# But during modeling and clusturing we will remove these "
   ]
  },
  {
   "cell_type": "code",
   "execution_count": 36,
   "id": "60e38712-d5e0-4933-81b8-ca8a072fe18e",
   "metadata": {},
   "outputs": [],
   "source": [
    "master_df.to_csv(\"cleaned_trade_master.csv\", index=False)"
   ]
  },
  {
   "cell_type": "code",
   "execution_count": 3,
   "id": "ab3beeb6-935b-4e37-9e94-aec9c9cd3c50",
   "metadata": {},
   "outputs": [],
   "source": [
    "#Now we have cleaned master dataset we are going to go for Exploratory Data Analysis "
   ]
  }
 ],
 "metadata": {
  "kernelspec": {
   "display_name": "Python 3 (ipykernel)",
   "language": "python",
   "name": "python3"
  },
  "language_info": {
   "codemirror_mode": {
    "name": "ipython",
    "version": 3
   },
   "file_extension": ".py",
   "mimetype": "text/x-python",
   "name": "python",
   "nbconvert_exporter": "python",
   "pygments_lexer": "ipython3",
   "version": "3.11.7"
  }
 },
 "nbformat": 4,
 "nbformat_minor": 5
}
